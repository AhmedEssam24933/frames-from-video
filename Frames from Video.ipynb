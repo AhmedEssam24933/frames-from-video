{
 "cells": [
  {
   "cell_type": "code",
   "execution_count": 2,
   "id": "a598a5fe",
   "metadata": {},
   "outputs": [],
   "source": [
    "import cv2\n",
    "import os"
   ]
  },
  {
   "cell_type": "markdown",
   "id": "bf805f08",
   "metadata": {},
   "source": [
    "### one video"
   ]
  },
  {
   "cell_type": "code",
   "execution_count": 71,
   "id": "fe103408",
   "metadata": {},
   "outputs": [],
   "source": [
    "def convert_video_to_frames(outputdir, video_path):\n",
    "    outputdir = outputdir\n",
    "    vidcap = cv2.VideoCapture(video_path)\n",
    "    success,image = vidcap.read()\n",
    "    count = 0\n",
    "    while success:\n",
    "        if count%2==0:   \n",
    "            cv2.imwrite(f\"{outputdir}\\\\video%d.jpg\" % count, image)     # save frame as JPEG file      \n",
    "        success,image = vidcap.read()\n",
    "    #print('Read a new frame: ', success)\n",
    "        count += 1\n",
    "    return"
   ]
  },
  {
   "cell_type": "code",
   "execution_count": 72,
   "id": "cdd71490",
   "metadata": {},
   "outputs": [],
   "source": [
    "def rename_images(path):\n",
    "    path=path+\"/\"\n",
    "    os.getcwd()\n",
    "    collection = path\n",
    "    for i, filename in enumerate(os.listdir(collection)):\n",
    "        os.rename(collection + filename, collection + str(i) + \".jpg\")\n",
    "    return "
   ]
  },
  {
   "cell_type": "code",
   "execution_count": 73,
   "id": "1a8d0d09",
   "metadata": {},
   "outputs": [],
   "source": [
    "def convert_videos_to_frames_rename_them(outputdir, vid_path):\n",
    "    convert_video_to_frames(outputdir, vid_path)\n",
    "    rename_images(outputdir)\n",
    "    return"
   ]
  },
  {
   "cell_type": "code",
   "execution_count": 74,
   "id": "03090712",
   "metadata": {},
   "outputs": [],
   "source": [
    "outputdir = r\"E:\\Egyptian Car Plate Detection\\car_plate\\Egyptian-Licence-Plate-Detector-master\\frames\"\n",
    "video_path = r'E:\\Egyptian Car Plate Detection\\car_plate\\Egyptian-Licence-Plate-Detector-master\\1.mp4'"
   ]
  },
  {
   "cell_type": "code",
   "execution_count": 75,
   "id": "65d509dd",
   "metadata": {},
   "outputs": [],
   "source": [
    "convert_videos_to_frames_rename_them(outputdir, video_path)"
   ]
  },
  {
   "cell_type": "markdown",
   "id": "8c4d5b42",
   "metadata": {},
   "source": [
    "### one folder"
   ]
  },
  {
   "cell_type": "code",
   "execution_count": 42,
   "id": "6a9ea4a7",
   "metadata": {},
   "outputs": [],
   "source": [
    "videos = r\"C:\\Users\\Ahmed\\Downloads\\Videos\\sign\\folder1\"\n",
    "outputdir=r\"C:\\Users\\Ahmed\\Downloads\\Videos\\output\\folder1\"\n",
    "for video in os.listdir(videos):\n",
    "    vidcap = cv2.VideoCapture(r'C:\\Users\\Ahmed\\Downloads\\Videos\\sign\\folder1' + f\"\\{video}\")\n",
    "    success,image = vidcap.read()\n",
    "    count = int(f\"{video}\".split(\".mp4\")[0][-1])*100\n",
    "    while success:\n",
    "          if count%1==0:   \n",
    "                  cv2.imwrite(f\"{outputdir}\\\\video%d.jpg\" % count, image)     # save frame as JPEG file      \n",
    "  \n",
    "          success,image = vidcap.read()\n",
    "#print('Read a new frame: ', success)\n",
    "          count += 1"
   ]
  },
  {
   "cell_type": "markdown",
   "id": "456ba741",
   "metadata": {},
   "source": [
    "### many folders"
   ]
  },
  {
   "cell_type": "code",
   "execution_count": 99,
   "id": "f36dc410",
   "metadata": {},
   "outputs": [],
   "source": [
    "videos_folder = r\"C:\\Users\\Ahmed\\Downloads\\Videos\\sign\"\n",
    "images_folder = r\"C:\\Users\\Ahmed\\Downloads\\Videos\\output\"\n",
    "for folder in os.listdir(videos_folder):\n",
    "    for video in os.listdir(f\"{videos_folder}\\\\{folder}\"):\n",
    "        vidcap = cv2.VideoCapture(f\"{videos_folder}\\\\{folder}\\\\{video}\")\n",
    "        success,image = vidcap.read()\n",
    "        count = int(f\"{video}\".split(\".mp4\")[0][-1])*100\n",
    "        while success:\n",
    "              if count%1==0:   \n",
    "                      cv2.imwrite(f\"{images_folder}\\\\{folder}\\\\video%d.jpg\" % count, image)     # save frame as JPEG file      \n",
    "  \n",
    "              success,image = vidcap.read()\n",
    "#print('Read a new frame: ', success)\n",
    "              count += 1"
   ]
  }
 ],
 "metadata": {
  "kernelspec": {
   "display_name": "Python 3 (ipykernel)",
   "language": "python",
   "name": "python3"
  },
  "language_info": {
   "codemirror_mode": {
    "name": "ipython",
    "version": 3
   },
   "file_extension": ".py",
   "mimetype": "text/x-python",
   "name": "python",
   "nbconvert_exporter": "python",
   "pygments_lexer": "ipython3",
   "version": "3.9.12"
  }
 },
 "nbformat": 4,
 "nbformat_minor": 5
}
